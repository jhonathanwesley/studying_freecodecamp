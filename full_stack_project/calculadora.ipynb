{
 "cells": [
  {
   "cell_type": "markdown",
   "metadata": {},
   "source": [
    "# CALCULADORA\n",
    "\n",
    "---"
   ]
  },
  {
   "cell_type": "code",
   "execution_count": 20,
   "metadata": {},
   "outputs": [],
   "source": [
    "class Calculadora():\n",
    "    \n",
    "\tdef soma(self, *args):\n",
    "\t\ttry:\n",
    "\t\t\treturn sum(args)\n",
    "\t\texcept:\n",
    "\t\t\tprint(f'Você tentou realizar uma operação inválida, corrija sua expressão e tente novamente!')\n",
    "\t\n",
    "\tdef subtracao(self, *args):\n",
    "\t\ttry:\n",
    "\t\t\treturn sum(args)\n",
    "\t\texcept:\n",
    "\t\t\tprint(f'Você tentou realizar uma operação inválida, corrija sua expressão e tente novamente!')\n",
    "\n",
    "\tdef multi(self, *args):\n",
    "\t\ttry:\n",
    "\t\t\treturn args * args\n",
    "\t\texcept:\n",
    "\t\t\tprint(f'Você tentou realizar uma operação inválida, corrija sua expressão e tente novamente!')\n",
    "\t\n",
    "\tdef divisao(self, *args):\n",
    "\t\ttry:\n",
    "\t\t\treturn args / args\n",
    "\t\texcept:\n",
    "\t\t\tprint(f'Você tentou realizar uma operação inválida, corrija sua expressão e tente novamente!')\n",
    "\n",
    "\tdef modulo_ou_resto(self, *args):\n",
    "\t\ttry:\n",
    "\t\t\treturn args % args\n",
    "\t\texcept:\n",
    "\t\t\tprint(f'Você tentou realizar uma operação inválida, corrija sua expressão e tente novamente!')\n",
    "\n",
    "\tdef potencia(self, *args):\n",
    "\t\ttry:\n",
    "\t\t\treturn pow(args)\n",
    "\t\texcept:\n",
    "\t\t\tprint(f'Você tentou realizar uma operação inválida, corrija sua expressão e tente novamente!')\n",
    "\n",
    "c = Calculadora()"
   ]
  },
  {
   "cell_type": "code",
   "execution_count": 14,
   "metadata": {},
   "outputs": [
    {
     "data": {
      "text/plain": [
       "5"
      ]
     },
     "execution_count": 14,
     "metadata": {},
     "output_type": "execute_result"
    }
   ],
   "source": [
    "c.soma(-25, 30)"
   ]
  },
  {
   "cell_type": "code",
   "execution_count": 21,
   "metadata": {},
   "outputs": [
    {
     "data": {
      "text/plain": [
       "65"
      ]
     },
     "execution_count": 21,
     "metadata": {},
     "output_type": "execute_result"
    }
   ],
   "source": [
    "c.subtracao(200 - 100 - 5 * 7)"
   ]
  },
  {
   "cell_type": "code",
   "execution_count": 23,
   "metadata": {},
   "outputs": [
    {
     "name": "stdout",
     "output_type": "stream",
     "text": [
      "Você tentou realizar uma operação inválida, corrija sua expressão e tente novamente!\n"
     ]
    }
   ],
   "source": [
    "c.potencia()"
   ]
  },
  {
   "cell_type": "code",
   "execution_count": null,
   "metadata": {},
   "outputs": [],
   "source": []
  }
 ],
 "metadata": {
  "kernelspec": {
   "display_name": ".venv_fullstack_py_server",
   "language": "python",
   "name": "python3"
  },
  "language_info": {
   "codemirror_mode": {
    "name": "ipython",
    "version": 3
   },
   "file_extension": ".py",
   "mimetype": "text/x-python",
   "name": "python",
   "nbconvert_exporter": "python",
   "pygments_lexer": "ipython3",
   "version": "3.12.3"
  }
 },
 "nbformat": 4,
 "nbformat_minor": 2
}
