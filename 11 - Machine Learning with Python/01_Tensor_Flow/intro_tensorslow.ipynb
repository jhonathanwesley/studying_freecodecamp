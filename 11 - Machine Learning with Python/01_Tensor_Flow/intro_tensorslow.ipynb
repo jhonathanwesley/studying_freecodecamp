{
  "cells": [
    {
      "cell_type": "markdown",
      "metadata": {
        "id": "1pGBFzJ5Sa39"
      },
      "source": [
        "# TensorFlow 2.0 Course\n",
        "\n",
        "---"
      ]
    },
    {
      "cell_type": "code",
      "execution_count": 2,
      "metadata": {
        "id": "Z5PKmqCRSa3-"
      },
      "outputs": [],
      "source": [
        "import tensorflow as tf\n",
        "import numpy as np"
      ]
    },
    {
      "cell_type": "markdown",
      "metadata": {
        "id": "FThmyLpRSa4A"
      },
      "source": [
        "## **Tensors**\n",
        "\n",
        "> \"A ``Tensor`` is a generalization os vectors and matrices to potentially higher dimensions. Internally, TensorFlow represents ``tensors`` as n-dimensioanl arrays of datatypes.\" ([Tensor Guide: tensorflow.org](https://www.tensorflow.org/guide/tensor))\n",
        "\n",
        "- Os **Tensores** são um dos principais aspectos do TensorFlow. Eles são o principal objeto que é passado e manipulado através do programa. Cada **Tensor** representa uma computação parcialmente definida que eventualmente vai produzir um valor. Os programas com TensorFlow funcionam construindo um gráfico de objetos `Tensor` que detalha como os **Tensors** estão relacionados. Rodando diferentes partes de um gráfico permite gerar resultados.\n",
        "\n",
        "> Cada `Tensor` tem um **_tipo de dados_** e um **_formato_**.\n",
        "\n",
        "**Data Types Inclue**: `float32`, `int32`, `string` and others.\n",
        "**Shape** (formato): Represents the dimension of data."
      ]
    },
    {
      "cell_type": "markdown",
      "metadata": {
        "id": "C_ElkU-OSa4A"
      },
      "source": [
        "\n",
        "---\n",
        "\n",
        "### Creating **Tensors**"
      ]
    },
    {
      "cell_type": "code",
      "execution_count": 4,
      "metadata": {
        "id": "0ukeWbH0Sa4B"
      },
      "outputs": [],
      "source": [
        "string = tf.Variable(\"this is a string\", tf.string)\n",
        "number = tf.Variable(324, tf.int16)\n",
        "floating = tf.Variable(3.567, tf.float64)"
      ]
    },
    {
      "cell_type": "markdown",
      "metadata": {
        "id": "hyTmDMzWSa4B"
      },
      "source": [
        "- Scalar Value: One Value\n",
        "- Verctor Value: More than one value\n",
        "- Matrices: Scale\n"
      ]
    },
    {
      "cell_type": "markdown",
      "source": [
        "### Rank/Degree of Tensors\n",
        "\n",
        "> Another word for Rank is Degree, these terms simply mean the number of dimensions involved in the tensor. What we created above is a _tensor of rank 0_, also known as a scalar.\n",
        "\n",
        "- Now we'll create some `Tensors` of higher degrees/ranks."
      ],
      "metadata": {
        "id": "sbpmluq_THDf"
      }
    },
    {
      "cell_type": "code",
      "source": [
        "rank_1_tensor = tf.Variable(['test'], tf.string)\n",
        "rank_2_tensor = tf.Variable([['test', 'ok'], ['test', 'yes']], tf.string)"
      ],
      "metadata": {
        "id": "dvmLHqHBS_UH"
      },
      "execution_count": 7,
      "outputs": []
    },
    {
      "cell_type": "markdown",
      "source": [
        "- Ver o rank/degree do `Tensor`\n",
        "\n",
        "**_Função:_** `tf.rank(variável_tensor)`"
      ],
      "metadata": {
        "id": "_VKyo4RlVRnu"
      }
    },
    {
      "cell_type": "code",
      "source": [
        "tf.rank(string)"
      ],
      "metadata": {
        "id": "n695lGjnUwJm",
        "outputId": "24d19021-c6d5-4728-e2bf-f68afa6df754",
        "colab": {
          "base_uri": "https://localhost:8080/"
        }
      },
      "execution_count": 9,
      "outputs": [
        {
          "output_type": "execute_result",
          "data": {
            "text/plain": [
              "<tf.Tensor: shape=(), dtype=int32, numpy=0>"
            ]
          },
          "metadata": {},
          "execution_count": 9
        }
      ]
    },
    {
      "cell_type": "code",
      "source": [
        "tf.rank(number)"
      ],
      "metadata": {
        "id": "3Oo5wwlVUznd",
        "outputId": "2ed9c6e6-4d9c-4869-aa65-dd098b6efe3b",
        "colab": {
          "base_uri": "https://localhost:8080/"
        }
      },
      "execution_count": 10,
      "outputs": [
        {
          "output_type": "execute_result",
          "data": {
            "text/plain": [
              "<tf.Tensor: shape=(), dtype=int32, numpy=0>"
            ]
          },
          "metadata": {},
          "execution_count": 10
        }
      ]
    },
    {
      "cell_type": "code",
      "source": [
        "tf.rank(rank_2_tensor)"
      ],
      "metadata": {
        "id": "uQtIzIE5UPEH",
        "outputId": "86590a70-4138-4f05-d453-827252c10005",
        "colab": {
          "base_uri": "https://localhost:8080/"
        }
      },
      "execution_count": 8,
      "outputs": [
        {
          "output_type": "execute_result",
          "data": {
            "text/plain": [
              "<tf.Tensor: shape=(), dtype=int32, numpy=2>"
            ]
          },
          "metadata": {},
          "execution_count": 8
        }
      ]
    },
    {
      "cell_type": "markdown",
      "source": [
        "- Ver o formato / shape do tensor\n",
        "\n",
        "**_Função:_** `tensor_variable.shape`"
      ],
      "metadata": {
        "id": "CYPHgQHYVqkN"
      }
    },
    {
      "cell_type": "code",
      "source": [
        "rank_2_tensor.shape"
      ],
      "metadata": {
        "id": "N1Dow237Vjo0",
        "outputId": "2b4504ee-45e6-4d54-e42c-1c8d29a05cfe",
        "colab": {
          "base_uri": "https://localhost:8080/"
        }
      },
      "execution_count": 13,
      "outputs": [
        {
          "output_type": "execute_result",
          "data": {
            "text/plain": [
              "TensorShape([2, 2])"
            ]
          },
          "metadata": {},
          "execution_count": 13
        }
      ]
    },
    {
      "cell_type": "code",
      "source": [
        "number.shape"
      ],
      "metadata": {
        "id": "ZKPv8dmpVl8c",
        "outputId": "9b69a9d4-6659-414a-e2d0-369fa8eaf542",
        "colab": {
          "base_uri": "https://localhost:8080/"
        }
      },
      "execution_count": 14,
      "outputs": [
        {
          "output_type": "execute_result",
          "data": {
            "text/plain": [
              "TensorShape([])"
            ]
          },
          "metadata": {},
          "execution_count": 14
        }
      ]
    },
    {
      "cell_type": "code",
      "source": [
        "rank_1_tensor.shape"
      ],
      "metadata": {
        "id": "TyAysNn4WtdL",
        "outputId": "810f0f14-a0e0-42b5-c4b2-672f5ce2adf3",
        "colab": {
          "base_uri": "https://localhost:8080/"
        }
      },
      "execution_count": 15,
      "outputs": [
        {
          "output_type": "execute_result",
          "data": {
            "text/plain": [
              "TensorShape([1])"
            ]
          },
          "metadata": {},
          "execution_count": 15
        }
      ]
    },
    {
      "cell_type": "code",
      "source": [],
      "metadata": {
        "id": "7rnbbHOHWw28"
      },
      "execution_count": null,
      "outputs": []
    }
  ],
  "metadata": {
    "kernelspec": {
      "display_name": ".venv_fullstack_py_server",
      "language": "python",
      "name": "python3"
    },
    "language_info": {
      "codemirror_mode": {
        "name": "ipython",
        "version": 3
      },
      "file_extension": ".py",
      "mimetype": "text/x-python",
      "name": "python",
      "nbconvert_exporter": "python",
      "pygments_lexer": "ipython3",
      "version": "3.12.3"
    },
    "colab": {
      "provenance": []
    }
  },
  "nbformat": 4,
  "nbformat_minor": 0
}